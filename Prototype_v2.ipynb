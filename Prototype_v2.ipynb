{
  "nbformat": 4,
  "nbformat_minor": 0,
  "metadata": {
    "colab": {
      "provenance": [],
      "authorship_tag": "ABX9TyOPIWnjPBoKM5yGh3Bo5l66",
      "include_colab_link": true
    },
    "kernelspec": {
      "name": "python3",
      "display_name": "Python 3"
    },
    "language_info": {
      "name": "python"
    }
  },
  "cells": [
    {
      "cell_type": "markdown",
      "metadata": {
        "id": "view-in-github",
        "colab_type": "text"
      },
      "source": [
        "<a href=\"https://colab.research.google.com/github/ankojubhanuprakash/grain-segmentation/blob/main/Prototype_v2.ipynb\" target=\"_parent\"><img src=\"https://colab.research.google.com/assets/colab-badge.svg\" alt=\"Open In Colab\"/></a>"
      ]
    },
    {
      "cell_type": "code",
      "execution_count": 56,
      "metadata": {
        "id": "Zha730MGyXAf"
      },
      "outputs": [],
      "source": [
        "import os\n",
        "import cv2\n",
        "import numpy as np\n",
        "import pandas as pd\n",
        "from scipy import signal\n",
        "from sklearn.cluster import KMeans\n",
        "#from wmi import WMI\n",
        "import logging\n",
        "from PIL import Image\n",
        "import matplotlib.pyplot as plt\n",
        "#from playsound import playsound\n",
        "#from google.colab import drive\n",
        "# drive.mount('/content/drive')\n",
        "########\n",
        "import threading\n",
        "import shutil\n",
        "import queue\n",
        "import warnings\n",
        "warnings.filterwarnings('ignore')\n",
        "import time\n"
      ]
    },
    {
      "cell_type": "code",
      "source": [
        "class GrainSegment:\n",
        "    def __init__(self) -> None:\n",
        "        #initlilise default parameters\n",
        "        self.contours_add = []\n",
        "        self.contours_normal = []\n",
        "        self.contours_abnormal = []\n",
        "        self.contours_remove = []\n",
        "        self.contours_remove_normal_copy = []\n",
        "        self.contours_remove_abnormal = []\n",
        "        self.contours_remove_abnormal_copy= []\n",
        "        self.contours_remove_normal = []\n",
        "        self.line_manual = []\n",
        "\n",
        "        self.list_balance_State = []\n",
        "        self.list_light_State = []\n",
        "\n",
        "        self.num_process = 0\n",
        "        self.num_contours = 0\n",
        "        self.meanArea = 0\n",
        "        self.meanPerimeter = 0\n",
        "        self.meanLength = 0\n",
        "        self.meanWidth = 0\n",
        "        self.shortEdge = 0\n",
        "\n",
        "        self.trigger_zoom = 0\n",
        "        self.mouse_mv_x = \"\"\n",
        "        self.mouse_mv_y = \"\"\n",
        "        self.labelx = 0\n",
        "        self.labely = 0\n",
        "\n",
        "        self.ratio = arearatio\n",
        "        self.area_calibration_true = 0\n",
        "        self.mouseButton = 0\n",
        "\n",
        "        self.mouseButton = 0\n",
        "\n",
        "\n",
        "        self.kernel = cv2.getStructuringElement(cv2.MORPH_RECT, (5, 5))\n",
        "        try:\n",
        "            with open(\"model.txt\", \"r\") as f:\n",
        "                self.grainModel = int(f.readline().strip(\"\\n\"))\n",
        "        except:\n",
        "            self.grainModel = 0\n",
        "\n",
        "    def openimage(self,imagename):\n",
        "        print('openimage')\n",
        "        self.imageName = imagename\n",
        "        self.image_open =  cv2.imread(self.imageName, )\n",
        "        self.image_color = self.image_open.copy()\n",
        "\n",
        "        self.image_open_display = self.image_open.copy()\n",
        "        #self.image_open_display = cv2.resize(self.image_open_display, (self.image_width, self.image_height))\n",
        "\n",
        "    def findThreshold(self,image):\n",
        "\n",
        "      hist = cv2.calcHist([image], [0], None, [256], [0, 256])\n",
        "      hist_flat= hist.flatten()\n",
        "      peakindex = signal.find_peaks_cwt(hist_flat,(15,15) )\n",
        "      if len(peakindex) == 2:\n",
        "        return int(np.mean(peakindex))\n",
        "\n",
        "      else:\n",
        "        return 110\n",
        "    def watershed(self, binary, factor_distance):\n",
        "      binary_BGR = cv2.cvtColor(binary, cv2.COLOR_GRAY2BGR)\n",
        "      # DIST_L2 =\n",
        "      dist_watershed = cv2.distanceTransform(binary, cv2.DIST_L2, 5)\n",
        "\n",
        "      ret, foreground = cv2.threshold(dist_watershed, dist_watershed.max() * factor_distance, 255, cv2.THRESH_BINARY)\n",
        "      foreground = np.uint8(foreground)\n",
        "      kernel_foreground = cv2.getStructuringElement(cv2.MORPH_RECT, (2, 2))\n",
        "      foreground = cv2.morphologyEx(foreground, cv2.MORPH_OPEN, kernel_foreground)\n",
        "      unknown = cv2.subtract(binary, foreground)\n",
        "      _, labels = cv2.connectedComponents(foreground)\n",
        "      labels = labels + 1\n",
        "      labels[unknown == 255] = 0\n",
        "      labels = cv2.watershed(binary_BGR, labels)\n",
        "      binary[labels == -1] = 0\n",
        "      return binary\n",
        "\n",
        "    def findratioarea(self, binary):\n",
        "        # Find adhesion areas based on area ratio\n",
        "        # print('findratioarea')\n",
        "        contours, hierarchy = cv2.findContours(binary, cv2.RETR_EXTERNAL, cv2.CHAIN_APPROX_NONE)\n",
        "        list_grainArea = []\n",
        "        list_convexArea = []\n",
        "        list_ratioArea = []\n",
        "\n",
        "        list_grainArea = [ cv2.contourArea(i) for i in contours]\n",
        "        list_convexArea = [ cv2.contourArea(cv2.convexHull(i)) for i in contours]\n",
        "        list_ratioArea = [grain_area/convex_area if convex_area != 0 else 0  for grain_area,convex_area\n",
        "                          in zip(list_grainArea,list_convexArea)]\n",
        "\n",
        "\n",
        "        return contours, hierarchy, list_ratioArea, list_grainArea\n",
        "\n",
        "    def findshapefactor(self, binary):\n",
        "        contours, _ = cv2.findContours(binary, cv2.RETR_EXTERNAL, cv2.CHAIN_APPROX_SIMPLE)\n",
        "        list_grainarea = [ cv2.contourArea(i ) for i in contours ]\n",
        "        list_grainArea = [4 * 3.141592653 * i for i in list_grainarea ]\n",
        "        list_grainPerimeter = [ cv2.arcLength(i, True) ** 2 for  i in contours ] ## FLAG\n",
        "\n",
        "        list_shapeFactor = [grain_area/grain_perimeter if grain_perimeter != 0 else 0  for grain_area,grain_perimeter\n",
        "                          in zip(list_grainArea,list_grainPerimeter)]\n",
        "\n",
        "\n",
        "\n",
        "        list_longEdge = []\n",
        "        list_shortEdge = []\n",
        "\n",
        "        for i in range(len(contours)):\n",
        "            rect = cv2.minAreaRect(contours[i])\n",
        "            if rect[1][0] >= rect [1][1]:\n",
        "                list_longEdge.append(rect[1][0])\n",
        "                list_shortEdge.append(rect[1][1])\n",
        "\n",
        "            else:\n",
        "                list_longEdge.append(rect[1][1])\n",
        "                list_shortEdge.append(rect[1][0])\n",
        "\n",
        "        longEdge = np.mean(list_longEdge)\n",
        "\n",
        "        if list_shortEdge == []:\n",
        "            shortEdge = 40\n",
        "        else:\n",
        "            shortEdge = np.mean(list_shortEdge)\n",
        "\n",
        "\n",
        "        return contours, list_shapeFactor, list_grainarea, longEdge, shortEdge\n",
        "\n",
        "    def shapeFactorAndArea(self, inplist, way):\n",
        "        # print('shapeFactorAndArea has kmeans')\n",
        "        inplist.sort()\n",
        "        for i in range(len(inplist)):\n",
        "            inplist[i] = round(inplist[i], 2)\n",
        "\n",
        "        if len(inplist) >= 3:\n",
        "            kmeans = KMeans(n_clusters = 3)\n",
        "        elif len(inplist) == 2:\n",
        "            kmeans = KMeans(n_clusters= 2 )\n",
        "        else:\n",
        "            kmeans = KMeans(n_clusters= 1 )\n",
        "\n",
        "        list_reshape = np.array(inplist).reshape(-1, 1)\n",
        "        kmeans.fit(list_reshape)\n",
        "        list_single = []\n",
        "\n",
        "        if way == 0:\n",
        "            for i in range(len(inplist)):\n",
        "                if kmeans.labels_[i] == kmeans.labels_[-1]:\n",
        "                    list_single.append(list[i])\n",
        "        else:\n",
        "            for i in range(len(inplist)):\n",
        "                if kmeans.labels_[i] == kmeans.labels_[0]:\n",
        "                    list_single.append(inplist[i])\n",
        "\n",
        "        return np.mean(list_single)\n",
        "    def processing(self):\n",
        "      channel_B=cv2.imread(self.imageName, cv2.IMREAD_GRAYSCALE)\n",
        "      thre = self.findThreshold(channel_B)\n",
        "      _, binary = cv2.threshold(channel_B, thre, 255, cv2.THRESH_BINARY)\n",
        "      ## Simple-touching grain segmentation\n",
        "      binary_seg_shape = binary.copy()\n",
        "      binary_seg_shape = self.watershed(binary_seg_shape, 0.3)\n",
        "      # plt.imshow(binary_seg_shape)\n",
        "      # plt.show()\n",
        "      binary_seg_shape = cv2.morphologyEx(binary_seg_shape, cv2.MORPH_OPEN, self.kernel, iterations=2)\n",
        "      binary_seg_shape = cv2.erode(binary_seg_shape, self.kernel)\n",
        "      # plt.imshow(binary_seg_shape)\n",
        "\n",
        "\n",
        "      contours_shape, _, _, list_grainArea_shape = self.findratioarea(binary_seg_shape )\n",
        "      # print\n",
        "      if len(list_grainArea_shape) != 0:\n",
        "        for i in range(len(list_grainArea_shape)):\n",
        "            if list_grainArea_shape[i] <= 0.1 * np.mean(list_grainArea_shape):\n",
        "                cv2.drawContours(binary_seg_shape, [contours_shape[i]], 0, 0, -1)\n",
        "\n",
        "      _, list_shapeFactor_checkshape, list_grainArea, self.longEdge, self.shortEdge = self.findshapefactor(binary_seg_shape)\n",
        "      self.shapeFactor_checkshape = self.shapeFactorAndArea(list_shapeFactor_checkshape,0)\n",
        "      # print(f'first call')\n",
        "      self.area_checkshape = self.shapeFactorAndArea(list_grainArea,1)"
      ],
      "metadata": {
        "id": "OhxFCTB4ycsA"
      },
      "execution_count": 58,
      "outputs": []
    },
    {
      "cell_type": "code",
      "source": [
        "arearatio = 6.732629815077101e-05\n",
        "a=GrainSegment()\n",
        "\n",
        "a.openimage('21.Bmp')\n",
        "a.processing()"
      ],
      "metadata": {
        "colab": {
          "base_uri": "https://localhost:8080/",
          "height": 733
        },
        "id": "1ZUu2Ec39g0Z",
        "outputId": "0a5644a5-9c50-4d19-d9bc-c6af549862a7"
      },
      "execution_count": 59,
      "outputs": [
        {
          "output_type": "stream",
          "name": "stdout",
          "text": [
            "openimage\n"
          ]
        },
        {
          "output_type": "error",
          "ename": "TypeError",
          "evalue": "unsupported operand type(s) for +: 'types.GenericAlias' and 'types.GenericAlias'",
          "traceback": [
            "\u001b[0;31m---------------------------------------------------------------------------\u001b[0m",
            "\u001b[0;31mTypeError\u001b[0m                                 Traceback (most recent call last)",
            "\u001b[0;32m<ipython-input-59-75f3fb9b7ae9>\u001b[0m in \u001b[0;36m<cell line: 5>\u001b[0;34m()\u001b[0m\n\u001b[1;32m      3\u001b[0m \u001b[0;34m\u001b[0m\u001b[0m\n\u001b[1;32m      4\u001b[0m \u001b[0ma\u001b[0m\u001b[0;34m.\u001b[0m\u001b[0mopenimage\u001b[0m\u001b[0;34m(\u001b[0m\u001b[0;34m'21.Bmp'\u001b[0m\u001b[0;34m)\u001b[0m\u001b[0;34m\u001b[0m\u001b[0;34m\u001b[0m\u001b[0m\n\u001b[0;32m----> 5\u001b[0;31m \u001b[0ma\u001b[0m\u001b[0;34m.\u001b[0m\u001b[0mprocessing\u001b[0m\u001b[0;34m(\u001b[0m\u001b[0;34m)\u001b[0m\u001b[0;34m\u001b[0m\u001b[0;34m\u001b[0m\u001b[0m\n\u001b[0m",
            "\u001b[0;32m<ipython-input-58-8aa68de4eb79>\u001b[0m in \u001b[0;36mprocessing\u001b[0;34m(self)\u001b[0m\n\u001b[1;32m    178\u001b[0m \u001b[0;34m\u001b[0m\u001b[0m\n\u001b[1;32m    179\u001b[0m       \u001b[0m_\u001b[0m\u001b[0;34m,\u001b[0m \u001b[0mlist_shapeFactor_checkshape\u001b[0m\u001b[0;34m,\u001b[0m \u001b[0mlist_grainArea\u001b[0m\u001b[0;34m,\u001b[0m \u001b[0mself\u001b[0m\u001b[0;34m.\u001b[0m\u001b[0mlongEdge\u001b[0m\u001b[0;34m,\u001b[0m \u001b[0mself\u001b[0m\u001b[0;34m.\u001b[0m\u001b[0mshortEdge\u001b[0m \u001b[0;34m=\u001b[0m \u001b[0mself\u001b[0m\u001b[0;34m.\u001b[0m\u001b[0mfindshapefactor\u001b[0m\u001b[0;34m(\u001b[0m\u001b[0mbinary_seg_shape\u001b[0m\u001b[0;34m)\u001b[0m\u001b[0;34m\u001b[0m\u001b[0;34m\u001b[0m\u001b[0m\n\u001b[0;32m--> 180\u001b[0;31m       \u001b[0mself\u001b[0m\u001b[0;34m.\u001b[0m\u001b[0mshapeFactor_checkshape\u001b[0m \u001b[0;34m=\u001b[0m \u001b[0mself\u001b[0m\u001b[0;34m.\u001b[0m\u001b[0mshapeFactorAndArea\u001b[0m\u001b[0;34m(\u001b[0m\u001b[0mlist_shapeFactor_checkshape\u001b[0m\u001b[0;34m,\u001b[0m\u001b[0;36m0\u001b[0m\u001b[0;34m)\u001b[0m\u001b[0;34m\u001b[0m\u001b[0;34m\u001b[0m\u001b[0m\n\u001b[0m\u001b[1;32m    181\u001b[0m       \u001b[0;31m# print(f'first call')\u001b[0m\u001b[0;34m\u001b[0m\u001b[0;34m\u001b[0m\u001b[0m\n\u001b[1;32m    182\u001b[0m       \u001b[0mself\u001b[0m\u001b[0;34m.\u001b[0m\u001b[0marea_checkshape\u001b[0m \u001b[0;34m=\u001b[0m \u001b[0mself\u001b[0m\u001b[0;34m.\u001b[0m\u001b[0mshapeFactorAndArea\u001b[0m\u001b[0;34m(\u001b[0m\u001b[0mlist_grainArea\u001b[0m\u001b[0;34m,\u001b[0m\u001b[0;36m1\u001b[0m\u001b[0;34m)\u001b[0m\u001b[0;34m\u001b[0m\u001b[0;34m\u001b[0m\u001b[0m\n",
            "\u001b[0;32m<ipython-input-58-8aa68de4eb79>\u001b[0m in \u001b[0;36mshapeFactorAndArea\u001b[0;34m(self, inplist, way)\u001b[0m\n\u001b[1;32m    155\u001b[0m                     \u001b[0mlist_single\u001b[0m\u001b[0;34m.\u001b[0m\u001b[0mappend\u001b[0m\u001b[0;34m(\u001b[0m\u001b[0minplist\u001b[0m\u001b[0;34m[\u001b[0m\u001b[0mi\u001b[0m\u001b[0;34m]\u001b[0m\u001b[0;34m)\u001b[0m\u001b[0;34m\u001b[0m\u001b[0;34m\u001b[0m\u001b[0m\n\u001b[1;32m    156\u001b[0m \u001b[0;34m\u001b[0m\u001b[0m\n\u001b[0;32m--> 157\u001b[0;31m         \u001b[0;32mreturn\u001b[0m \u001b[0mnp\u001b[0m\u001b[0;34m.\u001b[0m\u001b[0mmean\u001b[0m\u001b[0;34m(\u001b[0m\u001b[0mlist_single\u001b[0m\u001b[0;34m)\u001b[0m\u001b[0;34m\u001b[0m\u001b[0;34m\u001b[0m\u001b[0m\n\u001b[0m\u001b[1;32m    158\u001b[0m     \u001b[0;32mdef\u001b[0m \u001b[0mprocessing\u001b[0m\u001b[0;34m(\u001b[0m\u001b[0mself\u001b[0m\u001b[0;34m)\u001b[0m\u001b[0;34m:\u001b[0m\u001b[0;34m\u001b[0m\u001b[0;34m\u001b[0m\u001b[0m\n\u001b[1;32m    159\u001b[0m       \u001b[0mchannel_B\u001b[0m\u001b[0;34m=\u001b[0m\u001b[0mcv2\u001b[0m\u001b[0;34m.\u001b[0m\u001b[0mimread\u001b[0m\u001b[0;34m(\u001b[0m\u001b[0mself\u001b[0m\u001b[0;34m.\u001b[0m\u001b[0mimageName\u001b[0m\u001b[0;34m,\u001b[0m \u001b[0mcv2\u001b[0m\u001b[0;34m.\u001b[0m\u001b[0mIMREAD_GRAYSCALE\u001b[0m\u001b[0;34m)\u001b[0m\u001b[0;34m\u001b[0m\u001b[0;34m\u001b[0m\u001b[0m\n",
            "\u001b[0;32m/usr/local/lib/python3.10/dist-packages/numpy/core/fromnumeric.py\u001b[0m in \u001b[0;36mmean\u001b[0;34m(a, axis, dtype, out, keepdims, where)\u001b[0m\n\u001b[1;32m   3502\u001b[0m             \u001b[0;32mreturn\u001b[0m \u001b[0mmean\u001b[0m\u001b[0;34m(\u001b[0m\u001b[0maxis\u001b[0m\u001b[0;34m=\u001b[0m\u001b[0maxis\u001b[0m\u001b[0;34m,\u001b[0m \u001b[0mdtype\u001b[0m\u001b[0;34m=\u001b[0m\u001b[0mdtype\u001b[0m\u001b[0;34m,\u001b[0m \u001b[0mout\u001b[0m\u001b[0;34m=\u001b[0m\u001b[0mout\u001b[0m\u001b[0;34m,\u001b[0m \u001b[0;34m**\u001b[0m\u001b[0mkwargs\u001b[0m\u001b[0;34m)\u001b[0m\u001b[0;34m\u001b[0m\u001b[0;34m\u001b[0m\u001b[0m\n\u001b[1;32m   3503\u001b[0m \u001b[0;34m\u001b[0m\u001b[0m\n\u001b[0;32m-> 3504\u001b[0;31m     return _methods._mean(a, axis=axis, dtype=dtype,\n\u001b[0m\u001b[1;32m   3505\u001b[0m                           out=out, **kwargs)\n\u001b[1;32m   3506\u001b[0m \u001b[0;34m\u001b[0m\u001b[0m\n",
            "\u001b[0;32m/usr/local/lib/python3.10/dist-packages/numpy/core/_methods.py\u001b[0m in \u001b[0;36m_mean\u001b[0;34m(a, axis, dtype, out, keepdims, where)\u001b[0m\n\u001b[1;32m    116\u001b[0m             \u001b[0mis_float16_result\u001b[0m \u001b[0;34m=\u001b[0m \u001b[0;32mTrue\u001b[0m\u001b[0;34m\u001b[0m\u001b[0;34m\u001b[0m\u001b[0m\n\u001b[1;32m    117\u001b[0m \u001b[0;34m\u001b[0m\u001b[0m\n\u001b[0;32m--> 118\u001b[0;31m     \u001b[0mret\u001b[0m \u001b[0;34m=\u001b[0m \u001b[0mumr_sum\u001b[0m\u001b[0;34m(\u001b[0m\u001b[0marr\u001b[0m\u001b[0;34m,\u001b[0m \u001b[0maxis\u001b[0m\u001b[0;34m,\u001b[0m \u001b[0mdtype\u001b[0m\u001b[0;34m,\u001b[0m \u001b[0mout\u001b[0m\u001b[0;34m,\u001b[0m \u001b[0mkeepdims\u001b[0m\u001b[0;34m,\u001b[0m \u001b[0mwhere\u001b[0m\u001b[0;34m=\u001b[0m\u001b[0mwhere\u001b[0m\u001b[0;34m)\u001b[0m\u001b[0;34m\u001b[0m\u001b[0;34m\u001b[0m\u001b[0m\n\u001b[0m\u001b[1;32m    119\u001b[0m     \u001b[0;32mif\u001b[0m \u001b[0misinstance\u001b[0m\u001b[0;34m(\u001b[0m\u001b[0mret\u001b[0m\u001b[0;34m,\u001b[0m \u001b[0mmu\u001b[0m\u001b[0;34m.\u001b[0m\u001b[0mndarray\u001b[0m\u001b[0;34m)\u001b[0m\u001b[0;34m:\u001b[0m\u001b[0;34m\u001b[0m\u001b[0;34m\u001b[0m\u001b[0m\n\u001b[1;32m    120\u001b[0m         \u001b[0;32mwith\u001b[0m \u001b[0m_no_nep50_warning\u001b[0m\u001b[0;34m(\u001b[0m\u001b[0;34m)\u001b[0m\u001b[0;34m:\u001b[0m\u001b[0;34m\u001b[0m\u001b[0;34m\u001b[0m\u001b[0m\n",
            "\u001b[0;31mTypeError\u001b[0m: unsupported operand type(s) for +: 'types.GenericAlias' and 'types.GenericAlias'"
          ]
        }
      ]
    },
    {
      "cell_type": "code",
      "source": [
        "# i = time.time()\n",
        "%timeit a.processing()\n",
        "# print(time.time()-i)"
      ],
      "metadata": {
        "id": "pOZydlRx-XxU"
      },
      "execution_count": null,
      "outputs": []
    },
    {
      "cell_type": "code",
      "source": [
        "!ls"
      ],
      "metadata": {
        "colab": {
          "base_uri": "https://localhost:8080/"
        },
        "id": "OEDx2Rmd958Y",
        "outputId": "643c2705-7222-4bee-c3bc-24174eeaf3cf"
      },
      "execution_count": 6,
      "outputs": [
        {
          "output_type": "stream",
          "name": "stdout",
          "text": [
            "21.Bmp\tsample_data\n"
          ]
        }
      ]
    },
    {
      "cell_type": "code",
      "source": [
        "a= [0,1,2,3,4]\n",
        "[x/y if y != 0 else 0  for x,y in zip(a,a)]"
      ],
      "metadata": {
        "colab": {
          "base_uri": "https://localhost:8080/"
        },
        "id": "p3pG5cKt9_ss",
        "outputId": "7ce3bf4c-de8a-4971-84d2-2f2bdb906036"
      },
      "execution_count": 21,
      "outputs": [
        {
          "output_type": "execute_result",
          "data": {
            "text/plain": [
              "[0, 1.0, 1.0, 1.0, 1.0]"
            ]
          },
          "metadata": {},
          "execution_count": 21
        }
      ]
    },
    {
      "cell_type": "code",
      "source": [
        "time.time()"
      ],
      "metadata": {
        "colab": {
          "base_uri": "https://localhost:8080/"
        },
        "id": "tzALG2fOBIyd",
        "outputId": "94e53d5d-ce74-41ac-9244-1c3b8335d3e7"
      },
      "execution_count": 28,
      "outputs": [
        {
          "output_type": "execute_result",
          "data": {
            "text/plain": [
              "1710672770.8152068"
            ]
          },
          "metadata": {},
          "execution_count": 28
        }
      ]
    },
    {
      "cell_type": "code",
      "source": [
        "\n",
        "def fna():\n",
        "  x=1000\n",
        "  a=[]\n",
        "  b=[]\n",
        "  c= []\n",
        "  d= []\n",
        "  for i in range(x):\n",
        "    a.append(i)\n",
        "    b.append(i)\n",
        "    c.append(i)\n",
        "    d.append(i)\n",
        "%timeit fna()"
      ],
      "metadata": {
        "colab": {
          "base_uri": "https://localhost:8080/"
        },
        "id": "Xt-X1YRICvOm",
        "outputId": "ba6bf966-56a4-47e1-c050-0d6e35e645bf"
      },
      "execution_count": 44,
      "outputs": [
        {
          "output_type": "stream",
          "name": "stdout",
          "text": [
            "123 µs ± 2.12 µs per loop (mean ± std. dev. of 7 runs, 10000 loops each)\n"
          ]
        }
      ]
    },
    {
      "cell_type": "code",
      "source": [
        "\n",
        "def fnb():\n",
        "  x=1000\n",
        "  a=[]\n",
        "  b=[]\n",
        "  c= []\n",
        "  d= []\n",
        "  a=[]\n",
        "  a= [i for i in range(x)]\n",
        "  b= [i for i in range(x)]\n",
        "  c= [i for i in range(x)]\n",
        "  d= [i for i in range(x)]\n",
        "\n",
        "%timeit fnb()"
      ],
      "metadata": {
        "colab": {
          "base_uri": "https://localhost:8080/"
        },
        "id": "2rBQaBDgJ0J0",
        "outputId": "f49c2cb8-2838-458d-d7d9-96a412e3dce6"
      },
      "execution_count": 43,
      "outputs": [
        {
          "output_type": "stream",
          "name": "stdout",
          "text": [
            "98.4 µs ± 601 ns per loop (mean ± std. dev. of 7 runs, 10000 loops each)\n"
          ]
        }
      ]
    },
    {
      "cell_type": "code",
      "source": [],
      "metadata": {
        "id": "CKmMEgu7KB0v"
      },
      "execution_count": null,
      "outputs": []
    }
  ]
}